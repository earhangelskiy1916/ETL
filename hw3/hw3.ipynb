{
 "cells": [
  {
   "cell_type": "markdown",
   "metadata": {},
   "source": [
    "# Урок 3. Получение денормализованных таблиц из нормализованных"
   ]
  },
  {
   "cell_type": "markdown",
   "metadata": {},
   "source": [
    "## Задание 1"
   ]
  },
  {
   "cell_type": "markdown",
   "metadata": {},
   "source": [
    "Денормализуйте таблицу так, чтобы не нужно было для каждого рекламодателя\n",
    "\n",
    "постоянно подсчитывать количество кампаний и продаж.\n",
    "\n",
    "<img src='img/task_1.jpeg'>"
   ]
  },
  {
   "cell_type": "markdown",
   "metadata": {},
   "source": [
    "### Решение"
   ]
  },
  {
   "cell_type": "markdown",
   "metadata": {},
   "source": [
    "Добавим в таблицу Рекламодатели дополнительные столбцы -\n",
    "\n",
    "campaigns_count (количество кампаний) и sales_count (количество продаж).\n",
    "\n",
    "Таким образом, не придется постоянно подсчитывать количество кампаний и продаж.\n",
    "\n",
    "<img src='img/t1_advertisers.drawio.png'>"
   ]
  },
  {
   "cell_type": "markdown",
   "metadata": {},
   "source": [
    "------------"
   ]
  },
  {
   "cell_type": "markdown",
   "metadata": {},
   "source": [
    "## Задание 2"
   ]
  },
  {
   "cell_type": "markdown",
   "metadata": {},
   "source": [
    "В базе данных есть две таблицы: страны и клиенты.\n",
    "\n",
    "Одной из потребностей компании является исследование клиентов и стран\n",
    "\n",
    "с точки зрения эффективности продаж,\n",
    "\n",
    "поэтому часто выполняются объединения между таблицами: клиенты и страны.\n",
    "\n",
    "Что нужно сделать, чтобы ограничить частое объединение этих двух таблиц?\n",
    "\n",
    "<img src='img/task_2.jpeg'>"
   ]
  },
  {
   "cell_type": "markdown",
   "metadata": {},
   "source": [
    "### Решение"
   ]
  },
  {
   "cell_type": "markdown",
   "metadata": {},
   "source": [
    "Добавим в таблицу Клиенты дополнительный столбец - country_name (название страны).\n",
    "\n",
    "Таким образом, не придется постоянно объединять указанные таблицы.\n",
    "\n",
    "<img src='img/t2_clients.drawio.png'>"
   ]
  },
  {
   "cell_type": "markdown",
   "metadata": {},
   "source": [
    "------------"
   ]
  },
  {
   "cell_type": "markdown",
   "metadata": {},
   "source": [
    "## Задание 3"
   ]
  },
  {
   "cell_type": "markdown",
   "metadata": {},
   "source": [
    "Вернемся к первому примеру. Предположим, компания хочет регулярно извлекать данные о продажах,\n",
    "\n",
    "например, о кампаниях или рекламодателях с полными именами.\n",
    "\n",
    "Как мы можем решить проблему постоянной необходимости объединения таблиц?\n",
    "\n",
    "<img src='img/task_1.jpeg'>"
   ]
  },
  {
   "cell_type": "markdown",
   "metadata": {},
   "source": [
    "### Решение"
   ]
  },
  {
   "cell_type": "markdown",
   "metadata": {},
   "source": [
    "Добавим в таблицу Продажи дополнительные столбцы -\n",
    "\n",
    "advertise_name (название рекламодателя) и campaign_name (название кампании).\n",
    "\n",
    "Таким образом, не придется постоянно объединять несколько таблиц.\n",
    "\n",
    "<img src='img/t3_sales.drawio.png'>"
   ]
  },
  {
   "cell_type": "markdown",
   "metadata": {},
   "source": [
    "------------"
   ]
  }
 ],
 "metadata": {
  "kernelspec": {
   "display_name": ".venv",
   "language": "python",
   "name": "python3"
  },
  "language_info": {
   "name": "python",
   "version": "3.11.4"
  }
 },
 "nbformat": 4,
 "nbformat_minor": 2
}
